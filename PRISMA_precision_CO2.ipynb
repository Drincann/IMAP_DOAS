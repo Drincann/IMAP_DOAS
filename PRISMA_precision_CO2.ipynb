{
 "cells": [
  {
   "cell_type": "code",
   "execution_count": 158,
   "id": "minus-irish",
   "metadata": {},
   "outputs": [],
   "source": [
    "from imap_functions_PRISMA import *\n",
    "import matplotlib.pyplot as plt\n",
    "\n",
    "\n",
    "##### EXAMPLE RETRIEVAL FOR SCENE OVER SAN JUAN POWER PLANT\n",
    "\n",
    "\n",
    "#Load data\n",
    "class args:\n",
    "    pass\n",
    "\n",
    "args.direc = 'prs20200731t181747_SanJuan'\n",
    "args.name = 'prs20200731t181747_SanJuan'\n",
    "args.lat = 36.793\n",
    "args.lon = 108.391\n",
    "args.source = 'SanJuan'\n",
    "\n",
    "#Using meteorological fields and HITRAN cross-sections precomputed from a different\n",
    "#scene. They should work fine for illustration\n",
    "args.met = 'prs20200615t182416_Hunter'\n",
    "args.hitran = 'prs20200615t182416_Hunter'\n",
    "\n",
    "\n",
    "#Set up the retrieval\n",
    "init_dict = {'rad_dir': args.direc,\\\n",
    "             'rad_name': args.name,\\\n",
    "             'main': '/Users/cusworth/Documents/PRISMA/FullScenes/SanJuan/',\\\n",
    "             'wave_pos': 'ancillary/prisma_wvl.txt',\\\n",
    "             'alt_agl_km': 500,\\\n",
    "             'latitude': float(args.lat),\\\n",
    "             'longitude': -1*float(args.lon),\\\n",
    "             'fwhm': 5,\\\n",
    "             'SNR': 200,\\\n",
    "             'deg_poly': 6,\\\n",
    "             'do_legendre': False, \\\n",
    "             'met_file':'met/merra_met'+ args.met + '.p',\\\n",
    "             'inversion_wvl': [1920, 2130], \\\n",
    "             'hitran_loaded': args.hitran}\n",
    "\n",
    "\n",
    "#Load image and data\n",
    "files, set_inputs, wave_class, set_flight, coord_sub = initialize(init_dict)\n",
    "met = load_met(set_inputs, set_flight, files)\n",
    "cs, met, wave_class = load_hitran_solar(wave_class, met, files)\n",
    "rgb, rad_sub, wave_class, met = load_raw_observations(files, set_inputs, wave_class, met, cs)\n"
   ]
  },
  {
   "cell_type": "code",
   "execution_count": 159,
   "id": "ranking-emphasis",
   "metadata": {},
   "outputs": [
    {
     "name": "stderr",
     "output_type": "stream",
     "text": [
      "/Users/cusworth/opt/anaconda3/envs/py3/lib/python3.7/site-packages/numpy/polynomial/polynomial.py:1350: RankWarning: The fit may be poorly conditioned\n",
      "  return pu._fit(polyvander, x, y, deg, rcond, full, w)\n"
     ]
    }
   ],
   "source": [
    "### Retrieval equations - in the more operational code, this is called \"run_retrieval2\"\n",
    "\n",
    "#~~~~ INDICES IN DATA CUBE TO PLAY AROUND WITH ~~~~~\n",
    "idx = 50\n",
    "jdx = 60\n",
    "\n",
    "#Run retrieval given indices\n",
    "Y = rad_sub[idx,jdx,:] / .1\n",
    "Y = Y[wave_class.wvl_sel]\n",
    "\n",
    "inv_prms = make_class()\n",
    "\n",
    "#Prior start of polynomial fit is fit to subsample of Y\n",
    "init_k = set_inputs.deg_poly\n",
    "YT = Y/met.T_lo_0\n",
    "\n",
    "hi_x = np.linspace(-1, 1, len(wave_class.wvl_hi))\n",
    "lo_x = interpolate.interp1d(np.flip(wave_class.wvl_hi), hi_x)(wave_class.wvl_lo)\n",
    "\n",
    "#Set target wavelengths for low frequency features for CO2 retrieval\n",
    "zero_wvls = [1904, 1914, 1923, 1932, 1984, 2036, 2094, 2102]\n",
    "near_zeros = []\n",
    "for izero in zero_wvls: \n",
    "    imatch = np.argmin(np.abs(wave_class.wvl_lo - izero))\n",
    "    near_zeros.append(imatch)\n",
    "near_zeros = np.array(near_zeros)\n",
    "\n",
    "#Fit the polynomial\n",
    "lfit = np.polynomial.polynomial.polyfit(lo_x[near_zeros], Y[near_zeros], init_k)\n",
    "lval = np.polynomial.polynomial.polyval(hi_x, lfit)\n",
    "lval_lo = np.polynomial.polynomial.polyval(lo_x, lfit)\n",
    "\n",
    "#Scaling factors for gases\n",
    "lCH4 = set_inputs.layers_ch4\n",
    "lH2O = set_inputs.layers_h2o\n",
    "lN2O = set_inputs.layers_n2o\n",
    "\n",
    "#Define first prior\n",
    "s1 = get_scaling(met.vmr_CH4, met.ch4_red_A, met.bnd_ch4, met.pmid, met.h_full)\n",
    "s2 = get_scaling(met.vmr_H2O, met.h2o_red_A, met.bnd_h2o, met.pmid, met.h_full)\n",
    "s3 = get_scaling(met.vmr_N2O, met.n2o_red_A, met.bnd_n2o, met.pmid, met.h_full)\n",
    "\n",
    "#Set value of first prior + first iteration\n",
    "xa_full = np.append(s1, np.append(s2, np.append(s3, np.append(wave_class.shift_coef, lfit))))\n",
    "inv_prms.xa_full = xa_full\n",
    "\n",
    "#Construct prior error covariance\n",
    "sig_prior = np.abs(xa_full)  #Error on prior proportional to magnitude\n",
    "\n",
    "#Methane prior\n",
    "sig_prior[0] *= .5\n",
    "if set_inputs.layers_ch4 == 2: #If airbone\n",
    "    sig_prior[1] *= .5    \n",
    "sig_prior[(lCH4):(lCH4+lH2O)] *= .5 #H2O prior\n",
    "sig_prior[(lCH4+lH2O):(lCH4+lH2O+lN2O)] *= 1e-1 #N2O prior\n",
    "sig_prior[lCH4+lH2O+lN2O] *= 1e-5 #Shift prior\n",
    "sig_prior[-len(lfit):] *= .5 #polynomial\n",
    "Sa = np.diag((sig_prior**2))\n",
    "invSa = np.linalg.inv(Sa)\n",
    "\n",
    "#Obs error covariance\n",
    "noise_val = 1/(set_inputs.SNR**2)\n",
    "invSe = np.diag([1/noise_val] * len(Y))\n",
    "\n",
    "#Do five iterations - generally this is sufficient\n",
    "for i_iter in range(5):\n",
    "    \n",
    "    if i_iter == 0:\n",
    "        ix = xa_full\n",
    "    else:\n",
    "        ix = x_1\n",
    "\n",
    "    #Run Forward model\n",
    "    ilval = np.polynomial.polynomial.polyval(hi_x, ix[-len(lfit):])\n",
    "    T = np.flip(Transmission(ix[0:(lCH4)], ix[(lCH4):(lCH4+lH2O)], ix[(lCH4+lH2O):(lCH4+lH2O+lN2O)], met, cs))\n",
    "    Fa = F_lo(Forward3(T, ilval), np.flip(wave_class.wvl_hi), wave_class.wvl_lo, set_inputs.fwhm)\n",
    "    if i_iter==0:\n",
    "        Fa_1 = Fa\n",
    "    \n",
    "    #Create Jacobian\n",
    "    K = Make_Jac4(T, lcoefs=ix[-len(lfit):], scoefs=np.array([ix[lCH4+lH2O+lN2O]]), \\\n",
    "            wave_class=wave_class, met=met, set_inputs=set_inputs, cs=cs, \\\n",
    "            sCH4=ix[0:(lCH4)], sH2O=ix[(lCH4):(lCH4+lH2O)], sN2O=ix[(lCH4+lH2O):(lCH4+lH2O+lN2O)])\n",
    "\n",
    "    #Iterative solution for next state\n",
    "    term1 = np.linalg.inv(K.T.dot(invSe).dot(K) + invSa)\n",
    "    term2 = K.T.dot(invSe)\n",
    "    term3 = (Y - Fa) + K.dot(ix - xa_full)\n",
    "    x_1 = xa_full + (term1.dot(term2)).dot(term3)\n",
    "\n",
    "    #Posterior error\n",
    "    S_1 = np.linalg.inv(K.T.dot(invSe).dot(K)+np.linalg.inv(Sa))\n",
    "    lval_hat = np.polynomial.polynomial.polyval(hi_x, x_1[-len(lfit):])\n",
    "\n",
    "#Posterior estimate\n",
    "sCH4_hat = x_1[0:lCH4]\n",
    "sH2O_hat = x_1[(lCH4):(lCH4+lH2O)]\n",
    "sN2O_hat = x_1[(lCH4+lH2O):(lCH4+lH2O+lN2O)]\n",
    "\n",
    "That = np.flip(Transmission(sCH4_hat, sH2O_hat, sN2O_hat, met, cs))\n",
    "Fhat = F_lo(Forward3(That, lval_hat), np.flip(wave_class.wvl_hi), wave_class.wvl_lo, set_inputs.fwhm)\n",
    "\n",
    "#Output data\n",
    "inv_prms.Fh = Fhat\n",
    "inv_prms.Y = Y\n",
    "inv_prms.Fa = Fa_1\n",
    "inv_prms.RMSE = np.sqrt(np.mean((Y-Fhat)**2))\n",
    "inv_prms.ilval = lval_lo\n",
    "inv_prms.lval_hat = F_lo(lval_hat, np.flip(wave_class.wvl_hi), wave_class.wvl_lo, set_inputs.fwhm)\n",
    "inv_prms.K = K\n",
    "inv_prms.xhat = x_1\n",
    "inv_prms.Sa = Sa\n",
    "inv_prms.Sh = S_1\n",
    "inv_prms.Aker = np.eye(Sa.shape[0]) - S_1.dot(np.linalg.inv(Sa))\n",
    "\n",
    "retrieved_CO2 = (np.dot(x_1[0:lCH4] * met.ch4_red_A, met.h) * 1e9) / 1000\n"
   ]
  },
  {
   "cell_type": "code",
   "execution_count": 160,
   "id": "multiple-wellington",
   "metadata": {},
   "outputs": [
    {
     "name": "stdout",
     "output_type": "stream",
     "text": [
      "Retrieval precision (%) 8.508923814121896\n",
      "Prior precision (%) 50.0\n",
      "Total XCO2 (ppm) 487.5233371226509\n"
     ]
    }
   ],
   "source": [
    "#Show output\n",
    "\n",
    "print('Retrieval precision (%)', 100*np.sqrt(S_1[0,0]))\n",
    "print('Prior precision (%)', 100*np.sqrt(Sa[0,0]))\n",
    "print('Total XCO2 (ppm)', retrieved_CO2)"
   ]
  },
  {
   "cell_type": "code",
   "execution_count": 161,
   "id": "victorian-guess",
   "metadata": {},
   "outputs": [
    {
     "data": {
      "image/png": "[encoded data removed]",
      "text/plain": [
       "<Figure size 432x288 with 1 Axes>"
      ]
     },
     "metadata": {
      "needs_background": "light"
     },
     "output_type": "display_data"
    }
   ],
   "source": [
    "#Plot averaging kernel for CO2\n",
    "plt.plot(inv_prms.Aker[:,0], 'o-')\n",
    "plt.title('Averaging kernel for XCO2')\n",
    "plt.show()"
   ]
  },
  {
   "cell_type": "code",
   "execution_count": 162,
   "id": "painted-berlin",
   "metadata": {},
   "outputs": [
    {
     "data": {
      "image/png": "[encoded data removed]",
      "text/plain": [
       "<Figure size 432x288 with 1 Axes>"
      ]
     },
     "metadata": {
      "needs_background": "light"
     },
     "output_type": "display_data"
    }
   ],
   "source": [
    "#Plot observed, prior, and posterior spectra\n",
    "\n",
    "plt.plot(Y, label='Y')\n",
    "plt.plot(Fa_1, label='Fa')\n",
    "plt.plot(Fhat, label='Fh')\n",
    "plt.legend()\n",
    "plt.show()\n"
   ]
  },
  {
   "cell_type": "code",
   "execution_count": null,
   "id": "plastic-relation",
   "metadata": {},
   "outputs": [],
   "source": []
  },
  {
   "cell_type": "code",
   "execution_count": null,
   "id": "respected-cookbook",
   "metadata": {},
   "outputs": [],
   "source": []
  }
 ],
 "metadata": {
  "kernelspec": {
   "display_name": "Python 3",
   "language": "python",
   "name": "python3"
  },
  "language_info": {
   "codemirror_mode": {
    "name": "ipython",
    "version": 3
   },
   "file_extension": ".py",
   "mimetype": "text/x-python",
   "name": "python",
   "nbconvert_exporter": "python",
   "pygments_lexer": "ipython3",
   "version": "3.7.7"
  }
 },
 "nbformat": 4,
 "nbformat_minor": 5
}
